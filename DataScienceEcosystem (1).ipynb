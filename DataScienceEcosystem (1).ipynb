{
 "cells": [
  {
   "cell_type": "markdown",
   "id": "25963d6b",
   "metadata": {},
   "source": [
    "# Data Science Tools and Ecosystem"
   ]
  },
  {
   "cell_type": "markdown",
   "id": "3ef7e21e",
   "metadata": {},
   "source": [
    "In this notebook, Data Science Tools and Ecosystems are summarized"
   ]
  },
  {
   "cell_type": "markdown",
   "id": "1a251987",
   "metadata": {},
   "source": [
    "**Objectives**\n",
    "- Popular languages of Data Science \n",
    "- Commonly used libraries of Data Science\n",
    "- Development environments for Data science\n",
    "- Basic arithmetic expressions in python"
   ]
  },
  {
   "cell_type": "markdown",
   "id": "afd270a1",
   "metadata": {},
   "source": [
    "Some of the popular languages that Data Scientists use are: \n",
    "1. Python. \n",
    "2. R.\n",
    "3. SQL.\n",
    "4. Scala.\n",
    "5. Java.\n",
    "6. C++.\n",
    "7. Julia."
   ]
  },
  {
   "cell_type": "markdown",
   "id": "fed8ca91",
   "metadata": {},
   "source": [
    "Some of the commonly used libraries used by Data Scientist include:\n",
    "1. Scientific cumputing libraries such as Pandas, and NumPy.\n",
    "2. Visualization such as Matplotlib and Seaborn.\n",
    "3. Deep Learning libraries such as SciKit and Keras.\n"
   ]
  },
  {
   "cell_type": "markdown",
   "id": "b2732a62",
   "metadata": {},
   "source": [
    "Some of the commonly used three develpoment environments are:\n",
    "|Data Science Tools|\n",
    "|---|\n",
    "|RStudio| \n",
    "|Apache spark|       \n",
    "|TensorFlow|          \n"
   ]
  },
  {
   "cell_type": "markdown",
   "id": "f0a46066",
   "metadata": {},
   "source": [
    "### Below are a few examples of evaluating arithmetic expressions in Python."
   ]
  },
  {
   "cell_type": "code",
   "execution_count": 40,
   "id": "2f2fd95f",
   "metadata": {},
   "outputs": [
    {
     "data": {
      "text/plain": [
       "4"
      ]
     },
     "execution_count": 40,
     "metadata": {},
     "output_type": "execute_result"
    }
   ],
   "source": [
    "9-5"
   ]
  },
  {
   "cell_type": "code",
   "execution_count": 41,
   "id": "17dea7fc",
   "metadata": {},
   "outputs": [
    {
     "data": {
      "text/plain": [
       "5"
      ]
     },
     "execution_count": 41,
     "metadata": {},
     "output_type": "execute_result"
    }
   ],
   "source": [
    "4+1"
   ]
  },
  {
   "cell_type": "code",
   "execution_count": 42,
   "id": "70839672",
   "metadata": {},
   "outputs": [
    {
     "data": {
      "text/plain": [
       "450"
      ]
     },
     "execution_count": 42,
     "metadata": {},
     "output_type": "execute_result"
    }
   ],
   "source": [
    "5*90"
   ]
  },
  {
   "cell_type": "code",
   "execution_count": 43,
   "id": "af297bbe",
   "metadata": {},
   "outputs": [
    {
     "data": {
      "text/plain": [
       "32.142857142857146"
      ]
     },
     "execution_count": 43,
     "metadata": {},
     "output_type": "execute_result"
    }
   ],
   "source": [
    "450/14"
   ]
  },
  {
   "cell_type": "code",
   "execution_count": 44,
   "id": "3a2d3482",
   "metadata": {},
   "outputs": [
    {
     "data": {
      "text/plain": [
       "16"
      ]
     },
     "execution_count": 44,
     "metadata": {},
     "output_type": "execute_result"
    }
   ],
   "source": [
    "2**4"
   ]
  },
  {
   "cell_type": "code",
   "execution_count": 48,
   "id": "e1228462",
   "metadata": {},
   "outputs": [
    {
     "name": "stdout",
     "output_type": "stream",
     "text": [
      "220\n"
     ]
    }
   ],
   "source": [
    "a = 25 \n",
    "b = 85\n",
    "c = 2*(a + b)\n",
    "print(c)\n"
   ]
  },
  {
   "cell_type": "markdown",
   "id": "8ada8847",
   "metadata": {},
   "source": [
    "This a simple arithmetic expression to multiply then add integers "
   ]
  },
  {
   "cell_type": "code",
   "execution_count": 46,
   "id": "7b367bb2",
   "metadata": {},
   "outputs": [
    {
     "data": {
      "text/plain": [
       "17"
      ]
     },
     "execution_count": 46,
     "metadata": {},
     "output_type": "execute_result"
    }
   ],
   "source": [
    "(3*4)+5"
   ]
  },
  {
   "cell_type": "markdown",
   "id": "e2068e2e",
   "metadata": {},
   "source": [
    "This will convert 200 minutes to hours by dividing by 60"
   ]
  },
  {
   "cell_type": "code",
   "execution_count": 47,
   "id": "488ac8a9",
   "metadata": {
    "scrolled": true
   },
   "outputs": [
    {
     "name": "stdout",
     "output_type": "stream",
     "text": [
      "3.3333333333333335\n"
     ]
    }
   ],
   "source": [
    "x = 200 \n",
    "Hours = x / 60\n",
    "print(Hours)"
   ]
  },
  {
   "cell_type": "markdown",
   "id": "33ac5536",
   "metadata": {},
   "source": [
    " "
   ]
  },
  {
   "cell_type": "markdown",
   "id": "625dc258",
   "metadata": {},
   "source": [
    "## Author\n",
    "Jesús Antonio Rea Carrillo"
   ]
  }
 ],
 "metadata": {
  "kernelspec": {
   "display_name": "Python 3 (ipykernel)",
   "language": "python",
   "name": "python3"
  },
  "language_info": {
   "codemirror_mode": {
    "name": "ipython",
    "version": 3
   },
   "file_extension": ".py",
   "mimetype": "text/x-python",
   "name": "python",
   "nbconvert_exporter": "python",
   "pygments_lexer": "ipython3",
   "version": "3.11.4"
  }
 },
 "nbformat": 4,
 "nbformat_minor": 5
}
